{
  "nbformat": 4,
  "nbformat_minor": 0,
  "metadata": {
    "colab": {
      "provenance": [],
      "gpuType": "T4",
      "authorship_tag": "ABX9TyNM8/Mr9jkEbRyqIg5RaEKE",
      "include_colab_link": true
    },
    "kernelspec": {
      "name": "python3",
      "display_name": "Python 3"
    },
    "language_info": {
      "name": "python"
    },
    "accelerator": "GPU"
  },
  "cells": [
    {
      "cell_type": "markdown",
      "metadata": {
        "id": "view-in-github",
        "colab_type": "text"
      },
      "source": [
        "<a href=\"https://colab.research.google.com/github/heewonLEE2/Data-Ai-Colab/blob/main/CIFAR10_%EC%B5%9C%EC%A2%85%ED%95%99%EC%8A%B5.ipynb\" target=\"_parent\"><img src=\"https://colab.research.google.com/assets/colab-badge.svg\" alt=\"Open In Colab\"/></a>"
      ]
    },
    {
      "cell_type": "markdown",
      "source": [
        "# ✅ CIFAR10 데이터셋으로 모델 학습 최종적으로 몇개의 하이퍼 파라미터를 수정한뒤 학습\n",
        "- Optimizer: AdamW → SGD(momentum=0.9, nesterov=True, wd=5e-4), lr≈0.3(B=384 기준).\n",
        "- Aug: RandAugment(num_ops=2)로 살짝 강화 + Cutout(16) 유지.\n",
        "- MixUp: α=0.2 적용(손실은 두 타깃에 대한 CE 가중합).\n",
        "- Val 분리: 검증은 증강 없이 test_tf 적용(성능/조기종료 판단 정확).\n",
        "- Curves: 학습/검증 Loss·Acc 그래프 출력."
      ],
      "metadata": {
        "id": "oPSeA9xZRzu-"
      }
    },
    {
      "cell_type": "code",
      "source": [
        "# =========================================================\n",
        "# CIFAR-10 (SGD+Nesterov + RandAugment 강화 + MixUp + Curves)\n",
        "# - 입력 32×32 유지 + CIFAR-stem ResNet18(from scratch)\n",
        "# - Optim: SGD(momentum=0.9, nesterov=True), WD=5e-4\n",
        "# - Aug: RandAugment(num_ops=2, magnitude=7) + Cutout(16)\n",
        "# - MixUp(alpha=0.2)\n",
        "# - AMP + CosineLR + Warmup + EarlyStopping\n",
        "# - Val transform 분리(중요!) -> 과적합/성능 판단 정확\n",
        "# =========================================================\n",
        "!nvidia-smi -L || True\n",
        "\n",
        "import os, math, time, random\n",
        "import numpy as np\n",
        "import torch, torch.nn as nn, torch.optim as optim\n",
        "from torch import amp\n",
        "from torch.cuda.amp import GradScaler\n",
        "from torch.utils.data import DataLoader\n",
        "import torchvision\n",
        "import torchvision.transforms as T\n",
        "import matplotlib.pyplot as plt\n",
        "\n",
        "# ---------------------------\n",
        "# Config\n",
        "# ---------------------------\n",
        "SEED = 42\n",
        "DATASET = 'CIFAR10'     # 'CIFAR10' or 'CIFAR100'\n",
        "NUM_CLASSES = 10\n",
        "EPOCHS = 30\n",
        "BATCH_SIZE = 384        # 메모리 여유면 512도 시도\n",
        "BASE_LR = 0.1 * (BATCH_SIZE / 128)  # SGD 권장 스케일링 -> 0.3 (B=384)\n",
        "WEIGHT_DECAY = 5e-4\n",
        "MOMENTUM = 0.9\n",
        "NESTEROV = True\n",
        "LABEL_SMOOTH = 0.10\n",
        "MIXUP_ALPHA = 0.2       # 0으로 두면 MixUp 끔\n",
        "WARMUP_EPOCHS = 3\n",
        "PATIENCE = 7\n",
        "NUM_WORKERS = 2\n",
        "PIN = True\n",
        "PERSISTENT = False\n",
        "DEVICE = 'cuda' if torch.cuda.is_available() else 'cpu'\n",
        "torch.backends.cudnn.benchmark = (DEVICE=='cuda')\n",
        "\n",
        "def set_seed(s=SEED):\n",
        "    random.seed(s); np.random.seed(s); torch.manual_seed(s); torch.cuda.manual_seed_all(s)\n",
        "set_seed()"
      ],
      "metadata": {
        "colab": {
          "base_uri": "https://localhost:8080/"
        },
        "id": "gB1QO6rgSOHz",
        "outputId": "7c95de69-f846-4575-ceb3-016ca18bcb80"
      },
      "execution_count": 2,
      "outputs": [
        {
          "output_type": "stream",
          "name": "stdout",
          "text": [
            "GPU 0: Tesla T4 (UUID: GPU-16fcbc40-d708-9d98-f42e-3c1c17e0aee7)\n"
          ]
        }
      ]
    },
    {
      "cell_type": "code",
      "source": [
        "# ---------------------------\n",
        "# Utils\n",
        "# ---------------------------\n",
        "class EarlyStopping:\n",
        "    def __init__(self, patience=PATIENCE, min_delta=0.0):\n",
        "        self.patience=patience; self.min_delta=min_delta; self.best=None; self.cnt=0; self.stop=False\n",
        "    def step(self, v):\n",
        "        if self.best is None or v < self.best - self.min_delta:\n",
        "            self.best = v; self.cnt = 0\n",
        "        else:\n",
        "            self.cnt += 1\n",
        "            if self.cnt >= self.patience: self.stop = True\n",
        "\n",
        "def get_cosine_schedule_with_warmup(optimizer, num_warmup, num_training):\n",
        "    def lr_lambda(step):\n",
        "        if step < num_warmup: return float(step) / float(max(1, num_warmup))\n",
        "        prog = float(step - num_warmup) / float(max(1, num_training - num_warmup))\n",
        "        return 0.5 * (1.0 + math.cos(math.pi * prog))\n",
        "    return optim.lr_scheduler.LambdaLR(optimizer, lr_lambda)\n",
        "\n",
        "@torch.no_grad()\n",
        "def accuracy(logits, y): return (logits.argmax(1) == y).float().mean().item()\n",
        "\n",
        "def save_ckpt(model, path):\n",
        "    os.makedirs(os.path.dirname(path), exist_ok=True)\n",
        "    torch.save(model.state_dict(), path)"
      ],
      "metadata": {
        "id": "ICYK-jYFSis8"
      },
      "execution_count": null,
      "outputs": []
    },
    {
      "cell_type": "code",
      "source": [
        "# ---------------------------\n",
        "# Augmentations\n",
        "# ---------------------------\n",
        "class Cutout(object):\n",
        "    def __init__(self, size=16): self.size = size\n",
        "    def __call__(self, img):\n",
        "        if not isinstance(img, torch.Tensor): return img\n",
        "        c,h,w = img.shape\n",
        "        cx = random.randint(0,w-1); cy = random.randint(0,h-1)\n",
        "        half = self.size//2\n",
        "        x1,y1 = max(0,cx-half), max(0,cy-half)\n",
        "        x2,y2 = min(w,cx+half), min(h,cy+half)\n",
        "        img[:, y1:y2, x1:x2] = 0.0\n",
        "        return img"
      ],
      "metadata": {
        "id": "ihjpYcVnS03R"
      },
      "execution_count": null,
      "outputs": []
    },
    {
      "cell_type": "code",
      "source": [
        "# ---------------------------\n",
        "# Data (val/test는 증강 없이!)\n",
        "# ---------------------------\n",
        "if DATASET == 'CIFAR100':\n",
        "    DatasetClass = torchvision.datasets.CIFAR100\n",
        "    NUM_CLASSES = 100\n",
        "else:\n",
        "    DatasetClass = torchvision.datasets.CIFAR10\n",
        "    NUM_CLASSES = 10\n",
        "\n",
        "mean = (0.4914, 0.4822, 0.4465); std = (0.2470, 0.2435, 0.2616)\n",
        "\n",
        "train_tf = T.Compose([\n",
        "    T.RandomCrop(32, padding=4),\n",
        "    T.RandomHorizontalFlip(),\n",
        "    T.RandAugment(num_ops=2, magnitude=7),  # ← 강화\n",
        "    T.ToTensor(),\n",
        "    Cutout(size=16),\n",
        "    T.Normalize(mean, std),\n",
        "])\n",
        "test_tf = T.Compose([T.ToTensor(), T.Normalize(mean, std)])\n",
        "\n",
        "# 전체 train 인덱스를 먼저 나눔\n",
        "full_train = DatasetClass(root='./data', train=True, download=True, transform=None)\n",
        "idx = np.arange(len(full_train)); np.random.shuffle(idx)\n",
        "split = int(0.9 * len(idx))\n",
        "train_idx, val_idx = idx[:split], idx[split:]\n",
        "\n",
        "# 서로 다른 transform을 쓰는 두 개의 train-dataset 만들기\n",
        "train_ds = DatasetClass(root='./data', train=True, download=False, transform=train_tf)\n",
        "val_ds   = DatasetClass(root='./data', train=True, download=False, transform=test_tf)\n",
        "test_ds  = DatasetClass(root='./data', train=False, download=True,  transform=test_tf)\n",
        "\n",
        "# 같은 인덱스로 Subset\n",
        "train_subset = torch.utils.data.Subset(train_ds, train_idx)\n",
        "val_subset   = torch.utils.data.Subset(val_ds,   val_idx)\n",
        "\n",
        "dl_kw = dict(batch_size=BATCH_SIZE, num_workers=NUM_WORKERS, pin_memory=PIN, persistent_workers=PERSISTENT)\n",
        "if NUM_WORKERS and NUM_WORKERS > 0: dl_kw.update(prefetch_factor=2)\n",
        "train_loader = DataLoader(train_subset, shuffle=True,  **dl_kw)\n",
        "val_loader   = DataLoader(val_subset,   shuffle=False, **dl_kw)\n",
        "test_loader  = DataLoader(test_ds,      shuffle=False, **dl_kw)"
      ],
      "metadata": {
        "colab": {
          "base_uri": "https://localhost:8080/"
        },
        "id": "MtYOAYnjS4Yn",
        "outputId": "af2d07d9-b259-4b79-d0ee-c2b5a73a0c5d"
      },
      "execution_count": null,
      "outputs": [
        {
          "output_type": "stream",
          "name": "stderr",
          "text": [
            "100%|██████████| 170M/170M [00:04<00:00, 42.5MB/s]\n"
          ]
        }
      ]
    },
    {
      "cell_type": "code",
      "source": [
        "# ---------------------------\n",
        "# Model (CIFAR-stem ResNet18)\n",
        "# ---------------------------\n",
        "from torchvision import models\n",
        "class CIFARResNet18(nn.Module):\n",
        "    def __init__(self, num_classes=10):\n",
        "        super().__init__()\n",
        "        m = models.resnet18(weights=None)\n",
        "        m.conv1 = nn.Conv2d(3,64,kernel_size=3,stride=1,padding=1,bias=False)\n",
        "        m.maxpool = nn.Identity()\n",
        "        m.fc = nn.Linear(m.fc.in_features, num_classes)\n",
        "        self.m = m\n",
        "    def forward(self,x): return self.m(x)\n",
        "\n",
        "model = CIFARResNet18(NUM_CLASSES).to(DEVICE)\n",
        "if DEVICE=='cuda': model = model.to(memory_format=torch.channels_last)"
      ],
      "metadata": {
        "id": "s7d_u_3PTFmO"
      },
      "execution_count": null,
      "outputs": []
    },
    {
      "cell_type": "code",
      "source": [
        "# ---------------------------\n",
        "# Optim / Loss / Scheduler / AMP\n",
        "# ---------------------------\n",
        "opt = optim.SGD(model.parameters(),\n",
        "                lr=BASE_LR, momentum=MOMENTUM,\n",
        "                weight_decay=WEIGHT_DECAY, nesterov=NESTEROV)\n",
        "\n",
        "criterion = nn.CrossEntropyLoss(label_smoothing=LABEL_SMOOTH)\n",
        "scaler = GradScaler(enabled=(DEVICE=='cuda'))\n",
        "\n",
        "total_steps = EPOCHS * len(train_loader)\n",
        "warmup_steps = max(1, WARMUP_EPOCHS * len(train_loader))\n",
        "scheduler = get_cosine_schedule_with_warmup(opt, warmup_steps, total_steps)"
      ],
      "metadata": {
        "colab": {
          "base_uri": "https://localhost:8080/"
        },
        "id": "mirvA43ETN0R",
        "outputId": "2c9dcda3-07f2-42be-e098-9e9b266ed5c9"
      },
      "execution_count": null,
      "outputs": [
        {
          "output_type": "stream",
          "name": "stderr",
          "text": [
            "/tmp/ipython-input-334776419.py:9: FutureWarning: `torch.cuda.amp.GradScaler(args...)` is deprecated. Please use `torch.amp.GradScaler('cuda', args...)` instead.\n",
            "  scaler = GradScaler(enabled=(DEVICE=='cuda'))\n"
          ]
        }
      ]
    },
    {
      "cell_type": "markdown",
      "source": [
        "## **Mixup-helper 란 배치 안에서 두 샘플을 섞어 학습용 입력/타깃을 만들고, 그에 맞는 손실을 계산하는 유틸이에요.**\n",
        "\n",
        "\n",
        "1. mixup_data(x, y, alpha)\n",
        "    - λ ~ Beta(α, α) 를 샘플링(0~1).\n",
        "\n",
        "   - 배치 인덱스를 무작위로 섞어 (x_i, y_i)와 (x_j, y_j)를 짝지음.\n",
        "\n",
        "   - 입력 섞기: x_mix = λ·x_i + (1-λ)·x_j\n",
        "\n",
        "   - 라벨은 두 개를 따로 보관: y_a = y_i, y_b = y_j (원-핫으로 만들지 않음)\n",
        "\n",
        "  - (x_mix, y_a, y_b, λ) 반환\n",
        "→ α=0이면 바로 (x, y, y, 1.0)을 돌려 MixUp 비활성화.\n",
        "\n",
        "2. mixup_criterion(criterion, pred, y_a, y_b, lam)\n",
        "\n",
        "    - 일반 CrossEntropyLoss는 원-핫을 기대하지 않으므로,\n",
        "    두 개의 CE를 λ와 (1-λ)로 가중합:\n",
        "    L = λ·CE(pred, y_a) + (1-λ)·CE(pred, y_b)\n",
        "    → 원-핫 없이도 부드러운 타깃(soft label) 효과를 구현.\n",
        "\n",
        "## (효과)\n",
        "- 강한 정규화: 결정 경계를 매끄럽게 → 과적합/라벨 노이즈에 더 강함.\n",
        "- 일반화↑/칼리브레이션 개선: CIFAR 같은 과제에서 수%p 이득 기대.\n",
        "\n",
        "## 학습 루프에서의 위치\n",
        "\n",
        "- 배치 텐서를 GPU로 옮긴 뒤 mixup_data로 섞고, 섞인 입력으로 forward → mixup_criterion으로 손실 계산 → backward/step.\n",
        "\n",
        "- 정확도는 원본 배치(x, y) 로 별도 평가(코드가 그렇게 되어 있음).\n",
        "(MixUp 샘플은 라벨이 두 개라 “정확도” 정의가 애매하므로.)\n",
        "\n",
        "## 하이퍼파라미터 팁\n",
        "\n",
        "- α=0.2~0.4가 보통 무난. 너무 크면(강한 혼합) 언더피팅 가능.\n",
        "\n",
        "- 일부 구현은 lam = max(lam, 1-lam)으로 한 쪽 비중을 항상 ≥0.5로 둡니다(선택).\n",
        "\n",
        "## 주의/호환\n",
        "\n",
        "- Cutout, RandAugment와 함께 써도 OK(보통 상호보완).\n",
        "\n",
        "- Label Smoothing과도 동작(CE 호출이라 문제 없음).\n",
        "\n",
        "- BCE/멀티라벨이면 손실 함수를 BCE 기반으로 바꿔 동일 아이디어 적용.\n",
        "\n",
        "- 배치가 너무 작으면(예: 1) 섞을 페어가 없어 효과가 줄어듭니다.\n",
        "\n",
        "> 요약: 이 헬퍼 둘은 입력/라벨을 선형 섞고(데이터), 그에 맞춰 손실도 선형 섞는(학습) MixUp의 핵심 구현이에요."
      ],
      "metadata": {
        "id": "WvKgjfbyT_iy"
      }
    },
    {
      "cell_type": "code",
      "source": [
        "# ---------------------------\n",
        "# MixUp helper\n",
        "# ---------------------------\n",
        "def mixup_data(x, y, alpha=MIXUP_ALPHA):\n",
        "    if alpha <= 0.0: return x, y, y, 1.0\n",
        "    lam = float(np.random.beta(alpha, alpha))\n",
        "    batch_size = x.size(0)\n",
        "    index = torch.randperm(batch_size, device=x.device)\n",
        "    mixed_x = lam * x + (1 - lam) * x[index, :]\n",
        "    y_a, y_b = y, y[index]\n",
        "    return mixed_x, y_a, y_b, lam\n",
        "\n",
        "def mixup_criterion(criterion, pred, y_a, y_b, lam):\n",
        "    return lam * criterion(pred, y_a) + (1 - lam) * criterion(pred, y_b)"
      ],
      "metadata": {
        "id": "TmV5MUFZTRgd"
      },
      "execution_count": null,
      "outputs": []
    },
    {
      "cell_type": "code",
      "source": [
        "# ---------------------------\n",
        "# Train / Eval (history 기록)\n",
        "# ---------------------------\n",
        "CKPT = '/content/best_cifar_sgd_mixup.pt'\n",
        "early = EarlyStopping(patience=PATIENCE)\n",
        "\n",
        "history = {'tr_loss':[], 'tr_acc':[], 'va_loss':[], 'va_acc':[], 'epoch_time':[]}\n",
        "\n",
        "def run_epoch(loader, train=True):\n",
        "    model.train(train)\n",
        "    total_loss = 0.0; total_acc = 0.0; n = 0\n",
        "    for x,y in loader:\n",
        "        if DEVICE=='cuda':\n",
        "            x = x.to(DEVICE, non_blocking=True).contiguous(memory_format=torch.channels_last)\n",
        "        else:\n",
        "            x = x.to(DEVICE)\n",
        "        y = y.to(DEVICE, non_blocking=True)\n",
        "\n",
        "        if train:\n",
        "            opt.zero_grad(set_to_none=True)\n",
        "            # ---- MixUp ----\n",
        "            xm, ya, yb, lam = mixup_data(x, y, MIXUP_ALPHA)\n",
        "            with amp.autocast(device_type='cuda', enabled=(DEVICE=='cuda')):\n",
        "                logits = model(xm)\n",
        "                loss = mixup_criterion(criterion, logits, ya, yb, lam) if MIXUP_ALPHA>0 else criterion(logits, y)\n",
        "            scaler.scale(loss).backward()\n",
        "            scaler.step(opt)\n",
        "            scaler.update()\n",
        "            scheduler.step()\n",
        "            # 정확도는 원본 배치로 평가(참고용)\n",
        "            with torch.no_grad():\n",
        "                logits_eval = model(x)\n",
        "                acc = accuracy(logits_eval, y)\n",
        "        else:\n",
        "            with torch.no_grad():\n",
        "                logits = model(x)\n",
        "                loss = criterion(logits, y)\n",
        "                acc = accuracy(logits, y)\n",
        "\n",
        "        bs = x.size(0)\n",
        "        total_loss += loss.item() * bs\n",
        "        total_acc  += acc * bs\n",
        "        n += bs\n",
        "    return total_loss / n, total_acc / n\n",
        "\n",
        "best_val = float('inf')\n",
        "for epoch in range(1, EPOCHS+1):\n",
        "    t0 = time.time()\n",
        "    tr_loss, tr_acc = run_epoch(train_loader, train=True)\n",
        "    va_loss, va_acc = run_epoch(val_loader,   train=False)\n",
        "    dt = time.time() - t0\n",
        "\n",
        "    history['tr_loss'].append(tr_loss); history['tr_acc'].append(tr_acc)\n",
        "    history['va_loss'].append(va_loss); history['va_acc'].append(va_acc)\n",
        "    history['epoch_time'].append(dt)\n",
        "\n",
        "    if va_loss < best_val:\n",
        "        best_val = va_loss\n",
        "        save_ckpt(model, CKPT)\n",
        "\n",
        "    early.step(va_loss)\n",
        "    print(f\"[{epoch:02d}/{EPOCHS}] \"\n",
        "          f\"train_loss={tr_loss:.4f} acc={tr_acc:.4f} | \"\n",
        "          f\"val_loss={va_loss:.4f} acc={va_acc:.4f} | {dt:.1f}s\")\n",
        "    if early.stop:\n",
        "        print(\"Early stopping.\")\n",
        "        break"
      ],
      "metadata": {
        "colab": {
          "base_uri": "https://localhost:8080/"
        },
        "id": "mkEN2uxWTWWf",
        "outputId": "f38af4fe-ef36-4774-ad46-bdc6b4a4d591"
      },
      "execution_count": null,
      "outputs": [
        {
          "output_type": "stream",
          "name": "stdout",
          "text": [
            "[01/30] train_loss=2.2280 acc=0.2868 | val_loss=2.1778 acc=0.2922 | 52.4s\n",
            "[02/30] train_loss=1.8965 acc=0.4596 | val_loss=2.0343 acc=0.3488 | 39.5s\n",
            "[03/30] train_loss=1.7088 acc=0.5852 | val_loss=2.1157 acc=0.4102 | 38.9s\n",
            "[04/30] train_loss=1.5930 acc=0.6599 | val_loss=1.7499 acc=0.4668 | 38.9s\n",
            "[05/30] train_loss=1.4520 acc=0.7213 | val_loss=2.2092 acc=0.3894 | 38.0s\n",
            "[06/30] train_loss=1.4582 acc=0.7465 | val_loss=1.6673 acc=0.5288 | 38.4s\n",
            "[07/30] train_loss=1.3730 acc=0.7795 | val_loss=1.4633 acc=0.5990 | 39.0s\n",
            "[08/30] train_loss=1.4223 acc=0.7856 | val_loss=1.1927 acc=0.7030 | 39.1s\n",
            "[09/30] train_loss=1.3000 acc=0.8150 | val_loss=1.0087 acc=0.7866 | 38.5s\n",
            "[10/30] train_loss=1.3337 acc=0.8172 | val_loss=1.0430 acc=0.7636 | 38.8s\n",
            "[11/30] train_loss=1.2900 acc=0.8300 | val_loss=1.1309 acc=0.7438 | 39.0s\n",
            "[12/30] train_loss=1.2827 acc=0.8401 | val_loss=1.1067 acc=0.7492 | 38.8s\n",
            "[13/30] train_loss=1.2562 acc=0.8499 | val_loss=1.0937 acc=0.7474 | 38.8s\n",
            "[14/30] train_loss=1.2852 acc=0.8488 | val_loss=0.9961 acc=0.7890 | 39.6s\n",
            "[15/30] train_loss=1.2384 acc=0.8630 | val_loss=1.0567 acc=0.7626 | 38.7s\n",
            "[16/30] train_loss=1.2299 acc=0.8643 | val_loss=1.1967 acc=0.7078 | 38.3s\n",
            "[17/30] train_loss=1.2071 acc=0.8698 | val_loss=1.0014 acc=0.7828 | 38.5s\n",
            "[18/30] train_loss=1.2081 acc=0.8718 | val_loss=0.8467 acc=0.8538 | 38.7s\n",
            "[19/30] train_loss=1.1366 acc=0.8836 | val_loss=0.8279 acc=0.8634 | 38.7s\n",
            "[20/30] train_loss=1.1315 acc=0.8841 | val_loss=0.9844 acc=0.7908 | 39.4s\n",
            "[21/30] train_loss=1.1235 acc=0.8893 | val_loss=0.7973 acc=0.8832 | 39.5s\n",
            "[22/30] train_loss=1.1076 acc=0.8935 | val_loss=0.7548 acc=0.8916 | 38.4s\n",
            "[23/30] train_loss=1.0726 acc=0.8964 | val_loss=0.7468 acc=0.8908 | 38.0s\n",
            "[24/30] train_loss=1.0928 acc=0.8930 | val_loss=0.7176 acc=0.9090 | 37.9s\n",
            "[25/30] train_loss=1.0279 acc=0.9017 | val_loss=0.6878 acc=0.9210 | 38.3s\n",
            "[26/30] train_loss=1.0228 acc=0.9001 | val_loss=0.6843 acc=0.9202 | 38.4s\n",
            "[27/30] train_loss=1.0060 acc=0.9016 | val_loss=0.6734 acc=0.9260 | 39.2s\n",
            "[28/30] train_loss=1.0073 acc=0.8994 | val_loss=0.6682 acc=0.9330 | 40.0s\n",
            "[29/30] train_loss=0.9866 acc=0.9001 | val_loss=0.6632 acc=0.9362 | 38.8s\n",
            "[30/30] train_loss=1.0085 acc=0.9019 | val_loss=0.6685 acc=0.9344 | 39.0s\n"
          ]
        }
      ]
    },
    {
      "cell_type": "code",
      "source": [
        "# ---------------------------\n",
        "# Test with best\n",
        "# ---------------------------\n",
        "model.load_state_dict(torch.load(CKPT, map_location=DEVICE))\n",
        "model.eval()\n",
        "@torch.no_grad()\n",
        "def eval_loader(loader):\n",
        "    tl, ta, n = 0.0, 0.0, 0\n",
        "    for x,y in loader:\n",
        "        x = x.to(DEVICE); y = y.to(DEVICE)\n",
        "        logits = model(x)\n",
        "        loss = criterion(logits, y)\n",
        "        bs = x.size(0)\n",
        "        tl += loss.item() * bs; ta += accuracy(logits,y) * bs; n += bs\n",
        "    return tl/n, ta/n\n",
        "\n",
        "te_loss, te_acc = eval_loader(test_loader)\n",
        "print(f\"Test: loss={te_loss:.4f}, acc={te_acc:.4f}\")"
      ],
      "metadata": {
        "colab": {
          "base_uri": "https://localhost:8080/"
        },
        "id": "UeeYk3MoUxXu",
        "outputId": "77a16307-9a0e-43a0-eb0b-5a378565693f"
      },
      "execution_count": null,
      "outputs": [
        {
          "output_type": "stream",
          "name": "stdout",
          "text": [
            "Test: loss=0.6678, acc=0.9272\n"
          ]
        }
      ]
    },
    {
      "cell_type": "markdown",
      "source": [],
      "metadata": {
        "id": "qDnBCoBacGDP"
      }
    },
    {
      "cell_type": "code",
      "source": [
        "# ---------------------------\n",
        "# Curves (Loss / Accuracy)\n",
        "# ---------------------------\n",
        "epochs = range(1, len(history['tr_loss'])+1)\n",
        "\n",
        "plt.figure(figsize=(6,4))\n",
        "plt.plot(epochs, history['tr_loss'], label='Train Loss')\n",
        "plt.plot(epochs, history['va_loss'], label='Val Loss')\n",
        "plt.xlabel('Epoch'); plt.ylabel('Loss'); plt.title('Loss Curve'); plt.grid(True); plt.legend(); plt.show()\n",
        "\n",
        "plt.figure(figsize=(6,4))\n",
        "plt.plot(epochs, history['tr_acc'], label='Train Acc')\n",
        "plt.plot(epochs, history['va_acc'], label='Val Acc')\n",
        "plt.xlabel('Epoch'); plt.ylabel('Accuracy'); plt.title('Accuracy Curve'); plt.grid(True); plt.legend(); plt.show()"
      ],
      "metadata": {
        "colab": {
          "base_uri": "https://localhost:8080/",
          "height": 803
        },
        "id": "gwvWNcKqVtjq",
        "outputId": "f6020f9a-5f21-4284-a87b-bce19be66aba"
      },
      "execution_count": null,
      "outputs": [
        {
          "output_type": "display_data",
          "data": {
            "text/plain": [
              "<Figure size 600x400 with 1 Axes>"
            ],
            "image/png": "[encoded data removed]"
          },
          "metadata": {}
        },
        {
          "output_type": "display_data",
          "data": {
            "text/plain": [
              "<Figure size 600x400 with 1 Axes>"
            ],
            "image/png": "[encoded data removed]"
          },
          "metadata": {}
        }
      ]
    },
    {
      "cell_type": "code",
      "source": [
        "# 선택사항! : 메타까지 묶어서 한 파일로 저장\n",
        "torch.save({\n",
        "    \"state_dict\": model.state_dict(),\n",
        "    \"arch\": \"cifar_resnet18_stem\",\n",
        "    \"classes\": ['airplane','automobile','bird','cat','deer','dog','frog','horse','ship','truck'],\n",
        "    \"mean\": (0.4914, 0.4822, 0.4465),\n",
        "    \"std\":  (0.2470, 0.2435, 0.2616),\n",
        "}, \"/content/cifar10_resnet18_bundle.pt\")"
      ],
      "metadata": {
        "id": "veJ_HAQGabgm"
      },
      "execution_count": null,
      "outputs": []
    },
    {
      "cell_type": "code",
      "source": [
        "# 각각의 폴더 만들기\n",
        "CLASSES = ['airplane','automobile','bird','cat','deer','dog','frog','horse','ship','truck']\n",
        "for fileName in CLASSES :\n",
        "    os.mkdir('/content/my_images/' + fileName)"
      ],
      "metadata": {
        "id": "j6tL1e8Q5l-0"
      },
      "execution_count": 3,
      "outputs": []
    },
    {
      "cell_type": "code",
      "source": [
        "# ===== 폴더명(=정답) 기반 평가 확장 =====\n",
        "# 폴더 구조 예: /content/my_images/<class_name>/image.jpg\n",
        "# CLASSES와 폴더명이 정확히 일치해야 해요. (자동 보정 맵 몇 개는 포함)\n",
        "\n",
        "import os, re, glob\n",
        "import numpy as np\n",
        "import pandas as pd\n",
        "import torch, torch.nn as nn\n",
        "from torch import amp\n",
        "from torch.utils.data import Dataset, DataLoader\n",
        "from torchvision import models, transforms as T\n",
        "from PIL import Image\n",
        "\n",
        "image_dir = \"/content/my_images\"                      # 이미지 폴더\n",
        "ckpt_path = \"/content/best_cifar_sgd_mixup.pt\"        # 가중치 경로\n",
        "batch_size = 64\n",
        "num_workers = 2\n",
        "device = \"cuda\" if torch.cuda.is_available() else \"cpu\"\n",
        "\n",
        "CLASSES = ['airplane','automobile','bird','cat','deer','dog','frog','horse','ship','truck']\n",
        "class_to_idx = {c:i for i,c in enumerate(CLASSES)}\n",
        "\n",
        "# 폴더명 보정(간단한 동의어/표기 통일)\n",
        "CANON = {\n",
        "    \"car\":\"automobile\", \"autos\":\"automobile\", \"motorcar\":\"automobile\",\n",
        "    \"aeroplane\":\"airplane\"\n",
        "}\n",
        "def canonicalize(label):\n",
        "    lab = label.strip().lower()\n",
        "    lab = lab.replace(\" \", \"\").replace(\"-\", \"\").replace(\"_\",\"\")\n",
        "    lab = CANON.get(lab, lab)\n",
        "    return lab\n",
        "\n",
        "# 전처리(추론용)\n",
        "mean=(0.4914,0.4822,0.4465); std=(0.2470,0.2435,0.2616)\n",
        "test_tf = T.Compose([T.Resize((32,32)), T.ToTensor(), T.Normalize(mean,std)])\n",
        "\n",
        "# 모델(CIFAR-stem ResNet18)\n",
        "def build_cifar_resnet18(num_classes=10):\n",
        "    m = models.resnet18(weights=None)\n",
        "    import torch.nn as nn\n",
        "    m.conv1 = nn.Conv2d(3,64,kernel_size=3,stride=1,padding=1,bias=False)\n",
        "    m.maxpool = nn.Identity()\n",
        "    m.fc = nn.Linear(m.fc.in_features, num_classes)\n",
        "    return m\n",
        "\n",
        "model = build_cifar_resnet18(10).to(device)\n",
        "ckpt = torch.load(ckpt_path, map_location=device)\n",
        "state = ckpt.get(\"state_dict\", ckpt)\n",
        "# 접두사 정리(학습 시 래퍼가 있었다면)\n",
        "def strip_prefix(d, prefix):\n",
        "    return { (k[len(prefix):] if k.startswith(prefix) else k): v for k,v in d.items() }\n",
        "state = strip_prefix(strip_prefix(state, \"module.\"), \"m.\")\n",
        "model.load_state_dict(state, strict=True)\n",
        "model.eval()\n",
        "\n",
        "# 파일 리스트업(+ 정답 라벨 추출)\n",
        "def list_images(root):\n",
        "    exts=(\"*.jpg\",\"*.jpeg\",\"*.png\",\"*.JPG\",\"*.JPEG\",\"*.PNG\")\n",
        "    files=[]\n",
        "    for e in exts: files.extend(glob.glob(os.path.join(root,\"**\",e), recursive=True))\n",
        "    return sorted(files)\n",
        "\n",
        "files = list_images(image_dir)\n",
        "assert files, f\"No images in {image_dir}\"\n",
        "\n",
        "def true_label_from_path(p):\n",
        "    true_raw = os.path.basename(os.path.dirname(p))    # 상위 폴더명\n",
        "    lab = canonicalize(true_raw)\n",
        "    if lab not in class_to_idx:\n",
        "        raise ValueError(f\"Unknown class folder: '{true_raw}' -> '{lab}'. \"\n",
        "                         f\"Expected one of {list(class_to_idx)}\")\n",
        "    return lab, class_to_idx[lab]\n",
        "\n",
        "# 데이터셋\n",
        "class ImageWithLabelDS(Dataset):\n",
        "    def __init__(self, filepaths, tf):\n",
        "        self.files = filepaths; self.tf = tf\n",
        "    def __len__(self): return len(self.files)\n",
        "    def __getitem__(self, i):\n",
        "        p = self.files[i]\n",
        "        img = Image.open(p).convert(\"RGB\")\n",
        "        x = self.tf(img)\n",
        "        y_name, y_idx = true_label_from_path(p)\n",
        "        return x, p, y_idx, y_name\n",
        "\n",
        "ds = ImageWithLabelDS(files, test_tf)\n",
        "dl = DataLoader(ds, batch_size=batch_size, shuffle=False,\n",
        "                num_workers=num_workers, pin_memory=(device==\"cuda\"),\n",
        "                persistent_workers=False)\n",
        "\n",
        "rows=[]; softmax = nn.Softmax(dim=1)\n",
        "\n",
        "@torch.no_grad()\n",
        "def in_topk(probs_row, true_idx, k=5):\n",
        "    return true_idx in np.argsort(-probs_row)[:k]\n",
        "\n",
        "with torch.no_grad():\n",
        "    for x, paths, y_idx, y_name in dl:\n",
        "        x = x.to(device, non_blocking=True)\n",
        "        with amp.autocast(device_type='cuda', enabled=(device=='cuda')):\n",
        "            logits = model(x)\n",
        "            probs = softmax(logits).cpu().numpy()\n",
        "        topk = 5\n",
        "        topv, topi = torch.topk(torch.from_numpy(probs), k=topk, dim=1)\n",
        "        for pth, ti, tv, yi, yn in zip(paths, topi.tolist(), topv.tolist(), y_idx.tolist(), y_name):\n",
        "            preds = [CLASSES[j] for j in ti]\n",
        "            row = {\n",
        "                \"filename\": os.path.relpath(pth, image_dir),\n",
        "                \"true\": yn,\n",
        "                \"pred1\": preds[0], \"prob1\": float(tv[0]),\n",
        "                \"pred2\": preds[1], \"prob2\": float(tv[1]),\n",
        "                \"pred3\": preds[2], \"prob3\": float(tv[2]),\n",
        "                \"pred4\": preds[3], \"prob4\": float(tv[3]),\n",
        "                \"pred5\": preds[4], \"prob5\": float(tv[4]),\n",
        "            }\n",
        "            row[\"correct_top1\"] = (row[\"pred1\"] == yn)\n",
        "            row[\"correct_top5\"] = in_topk(probs[0*0:1].reshape(-1), yi, k=5) if False else (yn in preds[:5])\n",
        "            rows.append(row)\n",
        "\n",
        "df = pd.DataFrame(rows)\n",
        "df.to_csv(\"/content/preds_with_labels.csv\", index=False, encoding=\"utf-8\")\n",
        "print(\"Saved /content/preds_with_labels.csv\")\n",
        "\n",
        "# 전체/클래스별 정확도\n",
        "top1 = df[\"correct_top1\"].mean()\n",
        "top5 = df[\"correct_top5\"].mean()\n",
        "print(f\"Top-1 acc: {top1:.4f}  |  Top-5 acc: {top5:.4f}\")\n",
        "\n",
        "per_class = df.groupby(\"true\")[\"correct_top1\"].mean().reindex(CLASSES)\n",
        "print(\"\\nPer-class Top-1 accuracy:\")\n",
        "print(per_class)\n",
        "\n",
        "# 간단 혼동 행렬(Top-1 기준)\n",
        "import numpy as np\n",
        "cm = np.zeros((len(CLASSES), len(CLASSES)), dtype=int)\n",
        "for _, r in df.iterrows():\n",
        "    i = class_to_idx[r[\"true\"]]\n",
        "    j = class_to_idx[r[\"pred1\"]]\n",
        "    cm[i, j] += 1\n",
        "print(\"\\nConfusion Matrix (rows=true, cols=pred):\")\n",
        "print(pd.DataFrame(cm, index=CLASSES, columns=CLASSES))"
      ],
      "metadata": {
        "id": "r9j2zqQHcSce",
        "colab": {
          "base_uri": "https://localhost:8080/"
        },
        "outputId": "89ffd46b-2715-4193-f3cd-88cc8d80ea0c"
      },
      "execution_count": 4,
      "outputs": [
        {
          "output_type": "stream",
          "name": "stdout",
          "text": [
            "Saved /content/preds_with_labels.csv\n",
            "Top-1 acc: 0.9038  |  Top-5 acc: 1.0000\n",
            "\n",
            "Per-class Top-1 accuracy:\n",
            "true\n",
            "airplane      1.000000\n",
            "automobile    0.714286\n",
            "bird          0.600000\n",
            "cat           1.000000\n",
            "deer          1.000000\n",
            "dog           0.818182\n",
            "frog          1.000000\n",
            "horse         1.000000\n",
            "ship          0.928571\n",
            "truck         0.900000\n",
            "Name: correct_top1, dtype: float64\n",
            "\n",
            "Confusion Matrix (rows=true, cols=pred):\n",
            "            airplane  automobile  bird  cat  deer  dog  frog  horse  ship  \\\n",
            "airplane          11           0     0    0     0    0     0      0     0   \n",
            "automobile         0           5     0    0     0    0     0      0     0   \n",
            "bird               2           0     6    0     0    1     0      0     1   \n",
            "cat                0           0     0   13     0    0     0      0     0   \n",
            "deer               0           0     0    0    11    0     0      0     0   \n",
            "dog                0           0     0    1     0    9     0      1     0   \n",
            "frog               0           0     0    0     0    0     9      0     0   \n",
            "horse              0           0     0    0     0    0     0      8     0   \n",
            "ship               0           0     1    0     0    0     0      0    13   \n",
            "truck              0           0     0    0     0    0     0      0     1   \n",
            "\n",
            "            truck  \n",
            "airplane        0  \n",
            "automobile      2  \n",
            "bird            0  \n",
            "cat             0  \n",
            "deer            0  \n",
            "dog             0  \n",
            "frog            0  \n",
            "horse           0  \n",
            "ship            0  \n",
            "truck           9  \n"
          ]
        }
      ]
    },
    {
      "cell_type": "code",
      "source": [],
      "metadata": {
        "id": "7bNm9EQSqxNe"
      },
      "execution_count": null,
      "outputs": []
    }
  ]
}
