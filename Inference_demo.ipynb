{
  "nbformat": 4,
  "nbformat_minor": 0,
  "metadata": {
    "colab": {
      "provenance": [],
      "authorship_tag": "ABX9TyMV0dc6wMYFsxSfNDcz2R0S",
      "include_colab_link": true
    },
    "kernelspec": {
      "name": "python3",
      "display_name": "Python 3"
    },
    "language_info": {
      "name": "python"
    }
  },
  "cells": [
    {
      "cell_type": "markdown",
      "metadata": {
        "id": "view-in-github",
        "colab_type": "text"
      },
      "source": [
        "<a href=\"https://colab.research.google.com/github/heewonLEE2/Data-Ai-Colab/blob/main/Inference_demo.ipynb\" target=\"_parent\"><img src=\"https://colab.research.google.com/assets/colab-badge.svg\" alt=\"Open In Colab\"/></a>"
      ]
    },
    {
      "cell_type": "markdown",
      "source": [
        "# **그림판으로 숫자를 그려 모델이 잘 맞추는지 테스트 해보기!**: ✅"
      ],
      "metadata": {
        "id": "jemXFHRIX_m0"
      }
    },
    {
      "cell_type": "markdown",
      "source": [
        "## 모델 클래스 & 체크포인트 로드"
      ],
      "metadata": {
        "id": "6XykxtOjc78B"
      }
    },
    {
      "cell_type": "code",
      "source": [
        "import torch, numpy as np, matplotlib.pyplot as plt\n",
        "from PIL import Image, ImageOps\n",
        "import torch.nn as nn\n",
        "import torch.nn.functional as F\n",
        "import os, math\n",
        "\n",
        "# 디바이스\n",
        "device = torch.device('cuda' if torch.cuda.is_available() else 'cpu')\n",
        "\n",
        "# 학습 시 사용했던 동일 구조\n",
        "class SimpleCNN(nn.Module):\n",
        "    def __init__(self, num_classes=10):\n",
        "        super().__init__()\n",
        "        self.features = nn.Sequential(\n",
        "            nn.Conv2d(1, 32, 3, padding=1), nn.ReLU(),\n",
        "            nn.Conv2d(32, 32, 3, padding=1), nn.ReLU(),\n",
        "            nn.MaxPool2d(2),  # 28->14\n",
        "\n",
        "            nn.Conv2d(32, 64, 3, padding=1), nn.ReLU(),\n",
        "            nn.Conv2d(64, 64, 3, padding=1), nn.ReLU(),\n",
        "            nn.MaxPool2d(2),  # 14->7\n",
        "        )\n",
        "        self.classifier = nn.Sequential(\n",
        "            nn.Flatten(),\n",
        "            nn.Linear(64*7*7, 128), nn.ReLU(),\n",
        "            nn.Dropout(0.3),\n",
        "            nn.Linear(128, num_classes)\n",
        "        )\n",
        "    def forward(self, x):\n",
        "        x = self.features(x)\n",
        "        x = self.classifier(x)\n",
        "        return x\n",
        "\n",
        "model = SimpleCNN().to(device)\n",
        "\n",
        "# 학습 때 저장한 가중치 로드\n",
        "ckpt_path = \"/content/best_model.pt\"   # 경로 맞게 조정\n",
        "state = torch.load(ckpt_path, map_location=device)\n",
        "model.load_state_dict(state)\n",
        "model.eval()\n",
        "print(\"모델/장치:\", next(model.parameters()).device)"
      ],
      "metadata": {
        "colab": {
          "base_uri": "https://localhost:8080/"
        },
        "id": "bVvsoY-2YJFi",
        "outputId": "7c298b55-3d1f-47a0-fc4a-abcbb9ad334d"
      },
      "execution_count": 1,
      "outputs": [
        {
          "output_type": "stream",
          "name": "stdout",
          "text": [
            "모델/장치: cpu\n"
          ]
        }
      ]
    },
    {
      "cell_type": "markdown",
      "source": [
        "## 전처리 함수: (RGB→Grayscale, 자동 반전, 타이트 크롭, 20x20 리사이즈+패딩, 정규화)"
      ],
      "metadata": {
        "id": "2K_z1UVrdAJl"
      }
    },
    {
      "cell_type": "code",
      "source": [
        "import numpy as np\n",
        "from scipy import ndimage\n",
        "\n",
        "MEAN, STD = 0.1307, 0.3081  # 학습 시 사용한 MNIST 정규화\n",
        "\n",
        "def preprocess_digit(img_path, invert='auto', show=True):\n",
        "    \"\"\"\n",
        "    img_path: 업로드한 그림판 이미지 경로 (png/jpg 등)\n",
        "    invert: 'auto' | True | False\n",
        "      - MNIST는 '검은 배경 + 흰 숫자' 형태. 그림판이 '흰 배경 + 검은 숫자'면 자동 반전 필요.\n",
        "    \"\"\"\n",
        "    # 1) 로드 & 그레이스케일\n",
        "    img = Image.open(img_path).convert('L')  # 0=black ~ 255=white\n",
        "\n",
        "    # 2) (옵션) 자동 반전: 배경이 밝으면 반전하여 배경을 어둡게, 숫자를 밝게\n",
        "    arr = np.array(img)\n",
        "    if invert == 'auto':\n",
        "        if arr.mean() > 127:  # 평균이 밝으면 (흰 배경일 확률 ↑)\n",
        "            img = ImageOps.invert(img)\n",
        "            arr = np.array(img)\n",
        "    elif invert is True:\n",
        "        img = ImageOps.invert(img)\n",
        "        arr = np.array(img)\n",
        "\n",
        "    # 3) 타이트 크롭: 숫자 있는 영역만 bounding box로 잘라내기\n",
        "    #    약한 임계처리로 숫자 픽셀 감지\n",
        "    mask = arr > 20  # 아주 어두운 배경 제거\n",
        "    if mask.any():\n",
        "        coords = np.argwhere(mask)\n",
        "        y0, x0 = coords.min(axis=0)\n",
        "        y1, x1 = coords.max(axis=0) + 1\n",
        "        img = img.crop((x0, y0, x1, y1))\n",
        "    else:\n",
        "        # 모든 픽셀이 거의 배경이라면 그대로 진행\n",
        "        pass\n",
        "\n",
        "    # 4) 20x20에 맞춰 비율 유지 리사이즈\n",
        "    #    (MNIST 전처리 관례: 20x20에 숫자를 맞추고 주변 4픽셀 패딩 → 28x28)\n",
        "    img = np.array(img)\n",
        "    h, w = img.shape\n",
        "    if h == 0 or w == 0:\n",
        "        raise ValueError(\"비어있는 이미지로 감지됨.\")\n",
        "    # 더 긴 변을 20으로 스케일\n",
        "    if h > w:\n",
        "        new_h, new_w = 20, max(1, int(round(20 * w / h)))\n",
        "    else:\n",
        "        new_w, new_h = 20, max(1, int(round(20 * h / w)))\n",
        "    img = Image.fromarray(img).resize((new_w, new_h), Image.BILINEAR)\n",
        "\n",
        "    # 5) 28x28 패딩(가운데 배치)\n",
        "    canvas = Image.new('L', (28, 28), color=0)\n",
        "    left = (28 - new_w) // 2\n",
        "    top  = (28 - new_h) // 2\n",
        "    canvas.paste(img, (left, top))\n",
        "    img = np.array(canvas).astype(np.float32)\n",
        "\n",
        "    # 6) 중심 이동(선택): 질량중심을 캔버스 중앙에 맞추기 → 인식률 안정화\n",
        "    #    (흔한 테크닉. 필요 없으면 이 블록을 주석 처리해도 됨.)\n",
        "    def center_of_mass_shift(a):\n",
        "        a_norm = a / 255.0\n",
        "        cy, cx = ndimage.center_of_mass(a_norm)\n",
        "        if np.isnan(cx) or np.isnan(cy):\n",
        "            return a  # 빈 이미지면 스킵\n",
        "        shift_x = int(round(14 - cx))\n",
        "        shift_y = int(round(14 - cy))\n",
        "        return ndimage.shift(a, shift=(shift_y, shift_x), mode='constant', cval=0.0)\n",
        "    img = center_of_mass_shift(img)\n",
        "\n",
        "    # 7) [0,1] → 정규화 → 텐서화 (1,1,28,28)\n",
        "    img = img / 255.0\n",
        "    img = (img - MEAN) / STD\n",
        "    tensor = torch.from_numpy(img).unsqueeze(0).unsqueeze(0).to(torch.float32)\n",
        "\n",
        "    if show:\n",
        "        plt.figure(figsize=(3,3))\n",
        "        plt.imshow(((img*STD)+MEAN), cmap='gray')  # 역정규화로 보기 좋게\n",
        "        plt.title(\"Preprocessed 28x28\")\n",
        "        plt.axis('off'); plt.show()\n",
        "\n",
        "    return tensor"
      ],
      "metadata": {
        "id": "7AfUIXjLYPrF"
      },
      "execution_count": 2,
      "outputs": []
    },
    {
      "cell_type": "markdown",
      "source": [
        "## 추론 함수 + 상위 확률 출력(Top-k)"
      ],
      "metadata": {
        "id": "J9FCHU8UdDtw"
      }
    },
    {
      "cell_type": "code",
      "source": [
        "from glob import glob\n",
        "import os, csv, numpy as np, matplotlib.pyplot as plt\n",
        "import torch.nn.functional as F\n",
        "\n",
        "os.makedirs(\"results/demo\", exist_ok=True)\n",
        "\n",
        "# 1) 입력 수집\n",
        "paths = sorted(glob(\"demo_inputs/*.png\"))  # 상대경로 권장\n",
        "assert paths, \"demo_inputs 폴더에 *.png를 넣어주세요.\"\n",
        "\n",
        "# 2) 배치 추론\n",
        "rows, imgs = [], []\n",
        "for p in paths:\n",
        "    try:\n",
        "        x = preprocess_digit(p, invert='auto', show=False).to(device)\n",
        "        with torch.no_grad():\n",
        "            prob = F.softmax(model(x), dim=1).squeeze(0).cpu().numpy()\n",
        "        pred = int(prob.argmax())\n",
        "        rows.append([p, pred, float(prob[pred])])\n",
        "        # 그리드 표시용\n",
        "        img = x.squeeze().cpu().numpy()\n",
        "        img = np.clip(img*0.3081 + 0.1307, 0, 1)  # 역정규화\n",
        "        imgs.append((os.path.basename(p), img, pred, float(prob[pred])))\n",
        "    except Exception as e:\n",
        "        rows.append([p, f\"ERROR: {e}\", \"\"])\n",
        "\n",
        "# 3) 콘솔 요약\n",
        "for r in rows:\n",
        "    print(r)\n",
        "\n",
        "# 4) CSV 저장\n",
        "with open(\"results/demo/batch_preds.csv\", \"w\", newline=\"\") as f:\n",
        "    writer = csv.writer(f); writer.writerow([\"path\",\"pred\",\"prob\"]); writer.writerows(rows)\n",
        "print(\"Saved: results/demo/batch_preds.csv\")\n",
        "\n",
        "# 5) 이미지 그리드 저장+표시\n",
        "if imgs:\n",
        "    n = len(imgs)\n",
        "    plt.figure(figsize=(3*n, 3))\n",
        "    for i, (name, img, pred, prob) in enumerate(imgs, 1):\n",
        "        plt.subplot(1, n, i); plt.imshow(img, cmap=\"gray\")\n",
        "        plt.title(f\"{name}\\nPred {pred} ({prob:.2f})\"); plt.axis(\"off\")\n",
        "    plt.tight_layout(); plt.savefig(\"results/demo/batch_grid.png\", dpi=150); plt.show()\n",
        "    print(\"Saved: results/demo/batch_grid.png\")\n"
      ],
      "metadata": {
        "id": "6UbVMsQEYcQ3",
        "colab": {
          "base_uri": "https://localhost:8080/",
          "height": 431
        },
        "outputId": "a8a22262-f9f2-470e-c334-34258a8ada67"
      },
      "execution_count": 6,
      "outputs": [
        {
          "output_type": "stream",
          "name": "stdout",
          "text": [
            "['demo_inputs/my_image.png', 5, 0.9999947547912598]\n",
            "['demo_inputs/my_image2.png', 8, 0.99992835521698]\n",
            "['demo_inputs/my_image3.png', 9, 0.9999547004699707]\n",
            "['demo_inputs/my_image4.png', 4, 0.9991607666015625]\n",
            "Saved: results/demo/batch_preds.csv\n"
          ]
        },
        {
          "output_type": "display_data",
          "data": {
            "text/plain": [
              "<Figure size 1200x300 with 4 Axes>"
            ],
            "image/png": "[encoded data removed]"
          },
          "metadata": {}
        },
        {
          "output_type": "stream",
          "name": "stdout",
          "text": [
            "Saved: results/demo/batch_grid.png\n"
          ]
        }
      ]
    },
    {
      "cell_type": "code",
      "source": [],
      "metadata": {
        "id": "tu8Ul577eQbe"
      },
      "execution_count": null,
      "outputs": []
    }
  ]
}