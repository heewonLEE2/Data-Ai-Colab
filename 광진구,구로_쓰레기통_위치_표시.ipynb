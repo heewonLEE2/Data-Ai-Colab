{
  "nbformat": 4,
  "nbformat_minor": 0,
  "metadata": {
    "colab": {
      "provenance": [],
      "authorship_tag": "ABX9TyNJgGP0Es10J0XyLj00bGX/",
      "include_colab_link": true
    },
    "kernelspec": {
      "name": "python3",
      "display_name": "Python 3"
    },
    "language_info": {
      "name": "python"
    }
  },
  "cells": [
    {
      "cell_type": "markdown",
      "metadata": {
        "id": "view-in-github",
        "colab_type": "text"
      },
      "source": [
        "<a href=\"https://colab.research.google.com/github/heewonLEE2/Data-Ai-Colab/blob/main/%EA%B4%91%EC%A7%84%EA%B5%AC%2C%EA%B5%AC%EB%A1%9C_%EC%93%B0%EB%A0%88%EA%B8%B0%ED%86%B5_%EC%9C%84%EC%B9%98_%ED%91%9C%EC%8B%9C.ipynb\" target=\"_parent\"><img src=\"https://colab.research.google.com/assets/colab-badge.svg\" alt=\"Open In Colab\"/></a>"
      ]
    },
    {
      "cell_type": "code",
      "execution_count": null,
      "metadata": {
        "id": "V1SmC9mch1Ec"
      },
      "outputs": [],
      "source": [
        "import pandas as pd\n",
        "import requests\n",
        "import time\n",
        "import folium"
      ]
    },
    {
      "cell_type": "code",
      "source": [
        "file_path = \"/content/trash.csv\"\n",
        "df = pd.read_csv(file_path, encoding='euc-kr')\n",
        "\n",
        "file_path_2 = \"/content/guro_trash.csv\"\n",
        "df_2 = pd.read_csv(file_path_2, encoding='euc-kr')"
      ],
      "metadata": {
        "id": "3N3dy7CqiMAw"
      },
      "execution_count": null,
      "outputs": []
    },
    {
      "cell_type": "code",
      "source": [
        "df.columns"
      ],
      "metadata": {
        "id": "JZgowv05ieDk",
        "collapsed": true
      },
      "execution_count": null,
      "outputs": []
    },
    {
      "cell_type": "code",
      "source": [
        "df_2.columns"
      ],
      "metadata": {
        "id": "Gv0x87xdriMq",
        "collapsed": true
      },
      "execution_count": null,
      "outputs": []
    },
    {
      "cell_type": "code",
      "source": [
        "df.info()"
      ],
      "metadata": {
        "id": "3VXroB_Ti5F7",
        "collapsed": true
      },
      "execution_count": null,
      "outputs": []
    },
    {
      "cell_type": "code",
      "source": [
        "df_2.info()"
      ],
      "metadata": {
        "id": "y_hti8-orkwC",
        "collapsed": true
      },
      "execution_count": null,
      "outputs": []
    },
    {
      "cell_type": "code",
      "source": [
        "center = [37.5386, 127.0825]\n",
        "\n",
        "# 지도 객체 생성\n",
        "m = folium.Map(location=center, zoom_start=13)\n",
        "for idx, row in df.iterrows():\n",
        "    if not pd.isnull(row['위도']) and not pd.isnull(row['경도']):\n",
        "        folium.Marker(\n",
        "            location=[row['위도'], row['경도']],\n",
        "            popup=row['자치구명'],    # 또는 주소/설치 목적 등\n",
        "            icon=folium.Icon(color='green', icon='trash', prefix='fa')\n",
        "        ).add_to(m)\n",
        "for idx, row in df_2.iterrows():\n",
        "    if not pd.isnull(row['위도']) and not pd.isnull(row['경도']):\n",
        "        folium.Marker(\n",
        "            location=[row['위도'], row['경도']],\n",
        "            popup=row['소재지도로명'],    # 또는 주소/설치 목적 등\n",
        "            icon=folium.Icon(color='red', icon='trash', prefix='fa')\n",
        "        ).add_to(m)\n",
        "\n",
        "\n",
        "# 결과 저장\n",
        "m.save('gwangjin_trash_map.html')"
      ],
      "metadata": {
        "id": "I0gvs_wCjU_T"
      },
      "execution_count": null,
      "outputs": []
    },
    {
      "cell_type": "code",
      "source": [
        "m"
      ],
      "metadata": {
        "id": "R3nGIxBLpqP-"
      },
      "execution_count": null,
      "outputs": []
    },
    {
      "cell_type": "code",
      "source": [],
      "metadata": {
        "id": "pnIsfrdppyub"
      },
      "execution_count": null,
      "outputs": []
    }
  ]
}